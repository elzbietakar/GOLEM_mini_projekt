{
 "cells": [
  {
   "cell_type": "code",
   "execution_count": 7,
   "metadata": {},
   "outputs": [
    {
     "name": "stdout",
     "output_type": "stream",
     "text": [
      "Dane wyjściowe po MaxPooling:\n",
      "tensor([[[[ 6.,  8.],\n",
      "          [14., 16.]]]])\n",
      "tensor([[[[ 1.,  2.,  3.,  4.],\n",
      "          [ 5.,  6.,  7.,  8.],\n",
      "          [ 9., 10., 11., 12.],\n",
      "          [13., 14., 15., 16.]]]])\n"
     ]
    }
   ],
   "source": [
    "import torch\n",
    "import torch.nn as nn\n",
    "\n",
    "# Przykładowe dane wejściowe - obraz o wymiarach 1x3x4x4 (batch_size x channels x height x width)\n",
    "input_data = torch.tensor([[[[1.0, 2.0, 3.0, 4.0],\n",
    "                              [5.0, 6.0, 7.0, 8.0],\n",
    "                              [9.0, 10.0, 11.0, 12.0],\n",
    "                              [13.0, 14.0, 15.0, 16.0]]]])\n",
    "\n",
    "# Definicja warstwy MaxPool2d\n",
    "maxpool_layer = nn.MaxPool2d(kernel_size=2, stride=2)\n",
    "\n",
    "# Przejście przez warstwę MaxPool2d\n",
    "output = maxpool_layer(input_data)\n",
    "\n",
    "# Wyświetlenie danych wyjściowych\n",
    "print(\"Dane wyjściowe po MaxPooling:\")\n",
    "print(output)\n",
    "print(input_data)\n"
   ]
  },
  {
   "cell_type": "code",
   "execution_count": 5,
   "metadata": {},
   "outputs": [
    {
     "name": "stdout",
     "output_type": "stream",
     "text": [
      "Rozmiar danych wyjściowych: torch.Size([1, 6, 28, 28])\n"
     ]
    }
   ],
   "source": [
    "import torch\n",
    "import torch.nn as nn\n",
    "\n",
    "# Definiujemy klasę sieci\n",
    "class Net(nn.Module):\n",
    "    def __init__(self):\n",
    "        super().__init__()\n",
    "        self.conv1 = nn.Conv2d(3, 6, 5)\n",
    "\n",
    "# Tworzymy instancję klasy sieci\n",
    "net = Net()\n",
    "\n",
    "# Definiujemy przykładowe dane wejściowe (batch_size x channels x height x width)\n",
    "input_data = torch.randn(1, 3, 32, 32)  # Przykładowe dane wejściowe o wymiarach 32x32\n",
    "\n",
    "# Przechodzimy przez warstwę Conv2d\n",
    "output = net.conv1(input_data)\n",
    "\n",
    "# Wyświetlamy rozmiar danych wyjściowych\n",
    "print(\"Rozmiar danych wyjściowych:\", output.size())\n"
   ]
  },
  {
   "cell_type": "code",
   "execution_count": 9,
   "metadata": {},
   "outputs": [
    {
     "name": "stdout",
     "output_type": "stream",
     "text": [
      "tensor([[ 0.2548, -0.7505, -0.1318],\n",
      "        [-0.5404,  0.6434,  1.2339],\n",
      "        [-1.4786,  0.4105,  0.3073]])\n",
      "Dane wyjściowe po zastosowaniu ReLU:\n",
      "tensor([[0.2548, 0.0000, 0.0000],\n",
      "        [0.0000, 0.6434, 1.2339],\n",
      "        [0.0000, 0.4105, 0.3073]])\n"
     ]
    }
   ],
   "source": [
    "import torch\n",
    "import torch.nn.functional as F\n",
    "\n",
    "# Przykładowe dane wejściowe\n",
    "input_data = torch.randn(3, 3)  # Rozmiar: batch_size x liczba cech\n",
    "\n",
    "# Obliczenie funkcji aktywacji ReLU\n",
    "output = F.relu(input_data)\n",
    "\n",
    "# Wyświetlenie danych wyjściowych\n",
    "print(input_data)\n",
    "print(\"Dane wyjściowe po zastosowaniu ReLU:\")\n",
    "print(output)\n"
   ]
  },
  {
   "cell_type": "code",
   "execution_count": 1,
   "metadata": {},
   "outputs": [
    {
     "data": {
      "text/plain": [
       "array([ 4, 13, 28, 27, 18])"
      ]
     },
     "execution_count": 1,
     "metadata": {},
     "output_type": "execute_result"
    }
   ],
   "source": [
    "import numpy as np\n",
    "\n",
    "np.convolve((1,2,3), (4,5,6))"
   ]
  }
 ],
 "metadata": {
  "kernelspec": {
   "display_name": "Python 3",
   "language": "python",
   "name": "python3"
  },
  "language_info": {
   "codemirror_mode": {
    "name": "ipython",
    "version": 3
   },
   "file_extension": ".py",
   "mimetype": "text/x-python",
   "name": "python",
   "nbconvert_exporter": "python",
   "pygments_lexer": "ipython3",
   "version": "3.10.12"
  }
 },
 "nbformat": 4,
 "nbformat_minor": 2
}
